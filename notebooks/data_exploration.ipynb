{
 "cells": [
  {
   "cell_type": "markdown",
   "id": "0ef73c94",
   "metadata": {},
   "source": [
    "# Data Exploration\n",
    "\n",
    "This notebook provides an initial exploratory analysis of the available CSV datasets located in the `Data/` directory.\n",
    "\n",
    "We will: \n",
    "1. Inspect directory structure and file sizes.\n",
    "2. Load training / trial / test splits for `comments`, `task1`, and `task2`.\n",
    "3. Show basic schema (columns, dtypes), head/tail samples, and descriptive statistics.\n",
    "4. Check missing values.\n",
    "5. (Placeholder) Outline next analytical steps.\n",
    "\n",
    "> You can adapt and extend this notebook for modeling, feature engineering, or reporting."
   ]
  },
  {
   "cell_type": "code",
   "execution_count": 7,
   "id": "5d1a7109",
   "metadata": {},
   "outputs": [
    {
     "data": {
      "text/html": [
       "<div>\n",
       "<style scoped>\n",
       "    .dataframe tbody tr th:only-of-type {\n",
       "        vertical-align: middle;\n",
       "    }\n",
       "\n",
       "    .dataframe tbody tr th {\n",
       "        vertical-align: top;\n",
       "    }\n",
       "\n",
       "    .dataframe thead th {\n",
       "        text-align: right;\n",
       "    }\n",
       "</style>\n",
       "<table border=\"1\" class=\"dataframe\">\n",
       "  <thead>\n",
       "    <tr style=\"text-align: right;\">\n",
       "      <th></th>\n",
       "      <th>path</th>\n",
       "      <th>exists</th>\n",
       "      <th>size_kb</th>\n",
       "    </tr>\n",
       "  </thead>\n",
       "  <tbody>\n",
       "    <tr>\n",
       "      <th>0</th>\n",
       "      <td>Data/training data/comments.csv</td>\n",
       "      <td>False</td>\n",
       "      <td>None</td>\n",
       "    </tr>\n",
       "    <tr>\n",
       "      <th>1</th>\n",
       "      <td>Data/training data/task1.csv</td>\n",
       "      <td>False</td>\n",
       "      <td>None</td>\n",
       "    </tr>\n",
       "    <tr>\n",
       "      <th>2</th>\n",
       "      <td>Data/training data/task2.csv</td>\n",
       "      <td>False</td>\n",
       "      <td>None</td>\n",
       "    </tr>\n",
       "    <tr>\n",
       "      <th>3</th>\n",
       "      <td>Data/trial data/comments.csv</td>\n",
       "      <td>False</td>\n",
       "      <td>None</td>\n",
       "    </tr>\n",
       "    <tr>\n",
       "      <th>4</th>\n",
       "      <td>Data/trial data/task1.csv</td>\n",
       "      <td>False</td>\n",
       "      <td>None</td>\n",
       "    </tr>\n",
       "    <tr>\n",
       "      <th>5</th>\n",
       "      <td>Data/trial data/task2.csv</td>\n",
       "      <td>False</td>\n",
       "      <td>None</td>\n",
       "    </tr>\n",
       "    <tr>\n",
       "      <th>6</th>\n",
       "      <td>Data/test data/comments.csv</td>\n",
       "      <td>False</td>\n",
       "      <td>None</td>\n",
       "    </tr>\n",
       "    <tr>\n",
       "      <th>7</th>\n",
       "      <td>Data/test data/task1.csv</td>\n",
       "      <td>False</td>\n",
       "      <td>None</td>\n",
       "    </tr>\n",
       "    <tr>\n",
       "      <th>8</th>\n",
       "      <td>Data/test data/task2.csv</td>\n",
       "      <td>False</td>\n",
       "      <td>None</td>\n",
       "    </tr>\n",
       "  </tbody>\n",
       "</table>\n",
       "</div>"
      ],
      "text/plain": [
       "                              path  exists size_kb\n",
       "0  Data/training data/comments.csv   False    None\n",
       "1     Data/training data/task1.csv   False    None\n",
       "2     Data/training data/task2.csv   False    None\n",
       "3     Data/trial data/comments.csv   False    None\n",
       "4        Data/trial data/task1.csv   False    None\n",
       "5        Data/trial data/task2.csv   False    None\n",
       "6      Data/test data/comments.csv   False    None\n",
       "7         Data/test data/task1.csv   False    None\n",
       "8         Data/test data/task2.csv   False    None"
      ]
     },
     "execution_count": 7,
     "metadata": {},
     "output_type": "execute_result"
    }
   ],
   "source": [
    "# Imports\n",
    "import os, json, math, textwrap\n",
    "from pathlib import Path\n",
    "import pandas as pd\n",
    "import numpy as np\n",
    "import matplotlib.pyplot as plt\n",
    "import seaborn as sns\n",
    "from IPython.display import display  # Added to fix NameError for display()\n",
    "\n",
    "# Display options\n",
    "pd.set_option('display.max_columns', 100)\n",
    "pd.set_option('display.width', 120)\n",
    "sns.set_theme(context='notebook', style='whitegrid')\n",
    "\n",
    "DATA_ROOT = Path('Data')  # Adjust if the relative path changes\n",
    "SPLITS = ['training data', 'trial data', 'test data']\n",
    "FILES = ['comments.csv', 'task1.csv', 'task2.csv']\n",
    "\n",
    "def file_summary(path: Path) -> dict:\n",
    "    return {\n",
    "        'path': str(path),\n",
    "        'exists': path.exists(),\n",
    "        'size_kb': round(path.stat().st_size / 1024, 2) if path.exists() else None\n",
    "    }\n",
    "\n",
    "summaries = []\n",
    "for split in SPLITS:\n",
    "    for fname in FILES:\n",
    "        summaries.append(file_summary(DATA_ROOT / split / fname))\n",
    "pd.DataFrame(summaries)"
   ]
  },
  {
   "cell_type": "markdown",
   "id": "0ebf41f5",
   "metadata": {},
   "source": [
    "## Helper Functions"
   ]
  },
  {
   "cell_type": "code",
   "execution_count": 8,
   "id": "ea426c3f",
   "metadata": {},
   "outputs": [
    {
     "name": "stdout",
     "output_type": "stream",
     "text": [
      "Helper functions ready.\n"
     ]
    }
   ],
   "source": [
    "def load_split(split: str) -> dict:\n",
    "    \"\"\"Load all CSVs for a split; returns dict of DataFrames.\n",
    "    split: one of SPLITS\n",
    "    \"\"\"\n",
    "    dfs = {}\n",
    "    for fname in FILES:\n",
    "        path = DATA_ROOT / split / fname\n",
    "        if not path.exists():\n",
    "            print(f'WARNING: Missing {path}')\n",
    "            continue\n",
    "        try:\n",
    "            df = pd.read_csv(path)\n",
    "        except Exception as e:\n",
    "            print(f'ERROR reading {path}: {e}')\n",
    "            continue\n",
    "        dfs[fname.replace('.csv','')] = df\n",
    "    return dfs\n",
    "\n",
    "def quick_profile(df: pd.DataFrame, name: str):\n",
    "    print(f'--- {name} ---')\n",
    "    print('Shape:', df.shape)\n",
    "    print('Columns:', list(df.columns))\n",
    "    display(df.head(3))\n",
    "    display(df.tail(3))\n",
    "    miss = df.isna().sum()\n",
    "    miss = miss[miss>0]\n",
    "    if not miss.empty:\n",
    "        print('Missing values:')\n",
    "        display(miss.to_frame('missing'))\n",
    "    else:\n",
    "        print('No missing values.')\n",
    "    print()\n",
    "\n",
    "def describe_numeric(df: pd.DataFrame):\n",
    "    num = df.select_dtypes(include=[np.number])\n",
    "    if num.empty:\n",
    "        print('No numeric columns.')\n",
    "    else:\n",
    "        display(num.describe().T)\n",
    "\n",
    "def plot_numeric_distributions(df: pd.DataFrame, max_cols: int = 10):\n",
    "    num = df.select_dtypes(include=[np.number])\n",
    "    if num.empty:\n",
    "        return\n",
    "    cols = num.columns[:max_cols]\n",
    "    num[cols].hist(figsize=(min(3*len(cols), 18), 4), bins=30)\n",
    "    plt.tight_layout()\n",
    "\n",
    "print('Helper functions ready.')"
   ]
  },
  {
   "cell_type": "markdown",
   "id": "7ae3219c",
   "metadata": {},
   "source": [
    "## Load All Splits"
   ]
  },
  {
   "cell_type": "code",
   "execution_count": 10,
   "id": "00de23d5",
   "metadata": {},
   "outputs": [
    {
     "name": "stdout",
     "output_type": "stream",
     "text": [
      "WARNING: Missing Data/training data/comments.csv\n",
      "WARNING: Missing Data/training data/task1.csv\n",
      "WARNING: Missing Data/training data/task2.csv\n",
      "WARNING: Missing Data/trial data/comments.csv\n",
      "WARNING: Missing Data/trial data/task1.csv\n",
      "WARNING: Missing Data/trial data/task2.csv\n",
      "WARNING: Missing Data/test data/comments.csv\n",
      "WARNING: Missing Data/test data/task1.csv\n",
      "WARNING: Missing Data/test data/task2.csv\n"
     ]
    },
    {
     "data": {
      "text/plain": [
       "{'training data': [], 'trial data': [], 'test data': []}"
      ]
     },
     "execution_count": 10,
     "metadata": {},
     "output_type": "execute_result"
    }
   ],
   "source": [
    "data = {split: load_split(split) for split in SPLITS}\n",
    "# Show keys structure\n",
    "{k: list(v.keys()) for k,v in data.items()}"
   ]
  },
  {
   "cell_type": "markdown",
   "id": "760de950",
   "metadata": {},
   "source": [
    "## Quick Profiles (Training Split)"
   ]
  },
  {
   "cell_type": "code",
   "execution_count": null,
   "id": "abc9045b",
   "metadata": {},
   "outputs": [],
   "source": [
    "train = data.get('training data', {})\n",
    "for name, df in train.items():\n",
    "    quick_profile(df, f'training/{name}')\n",
    "    describe_numeric(df)\n",
    "    plot_numeric_distributions(df)\n",
    "plt.show()"
   ]
  },
  {
   "cell_type": "markdown",
   "id": "15467193",
   "metadata": {},
   "source": [
    "## Compare Row Counts Across Splits"
   ]
  },
  {
   "cell_type": "code",
   "execution_count": null,
   "id": "481a3be0",
   "metadata": {},
   "outputs": [],
   "source": [
    "rows = []\n",
    "for split, dfs in data.items():\n",
    "    for name, df in dfs.items():\n",
    "        rows.append({'split': split, 'dataset': name, 'rows': len(df)})\n",
    "row_counts = pd.DataFrame(rows)\n",
    "row_counts_pivot = row_counts.pivot(index='dataset', columns='split', values='rows')\n",
    "display(row_counts_pivot)\n",
    "sns.barplot(data=row_counts, x='dataset', y='rows', hue='split')\n",
    "plt.title('Row Counts by Split')\n",
    "plt.tight_layout()"
   ]
  },
  {
   "cell_type": "markdown",
   "id": "b8825584",
   "metadata": {},
   "source": [
    "## Next Steps\n",
    "- Add domain-specific feature engineering.\n",
    "- Target variable exploration (if applicable).\n",
    "- Text preprocessing for comments (tokenization, normalization).\n",
    "- Train/validation split inside training data if needed.\n",
    "- Baseline model experiments.\n",
    "\n",
    "Feel free to insert new cells below this point to continue your analysis."
   ]
  },
  {
   "cell_type": "code",
   "execution_count": null,
   "id": "46b065aa",
   "metadata": {},
   "outputs": [],
   "source": [
    "# Environment/version check\n",
    "import sys, importlib\n",
    "mods = ['pandas','numpy','matplotlib','seaborn','IPython']\n",
    "versions = {m: importlib.import_module(m).__version__ if hasattr(importlib.import_module(m),'__version__') else 'n/a' for m in mods}\n",
    "print('Python', sys.version)\n",
    "print('Library versions:')\n",
    "for k,v in versions.items():\n",
    "    print(f'  {k}: {v}')"
   ]
  }
 ],
 "metadata": {
  "kernelspec": {
   "display_name": ".venv",
   "language": "python",
   "name": "python3"
  },
  "language_info": {
   "codemirror_mode": {
    "name": "ipython",
    "version": 3
   },
   "file_extension": ".py",
   "mimetype": "text/x-python",
   "name": "python",
   "nbconvert_exporter": "python",
   "pygments_lexer": "ipython3",
   "version": "3.12.3"
  }
 },
 "nbformat": 4,
 "nbformat_minor": 5
}
